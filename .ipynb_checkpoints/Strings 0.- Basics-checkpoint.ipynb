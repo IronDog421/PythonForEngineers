{
 "cells": [
  {
   "cell_type": "markdown",
   "id": "65b9c5be-dcdb-4483-9175-fa3db5cc5921",
   "metadata": {},
   "source": [
    "# Strings (Sequence Type) | 0.- Basics"
   ]
  },
  {
   "cell_type": "markdown",
   "id": "a756b0fe-eb57-4f94-84df-10eb7222bb14",
   "metadata": {},
   "source": [
    "## 0. Defining Strings"
   ]
  },
  {
   "cell_type": "markdown",
   "id": "9037f0e4-1d7c-4ea9-9908-f3dc978cab7f",
   "metadata": {},
   "source": [
    "Firstly we need to know that strings are inmutable sequences (we cannot modify a defined strings). The easiest way to define them is with either single, double or triple quotation marks."
   ]
  },
  {
   "cell_type": "code",
   "execution_count": 4,
   "id": "8690bf99-6d6d-4a7d-b899-6dd8d8d25bb2",
   "metadata": {},
   "outputs": [],
   "source": [
    "first = 'first string'\n",
    "second = \"Second string\"\n",
    "\n",
    "#Triple quotation admits multiline strings\n",
    "third = '''THIRD \n",
    "STRING'''"
   ]
  },
  {
   "cell_type": "markdown",
   "id": "a1e989c8-196f-4b5b-b1ad-8de97d3ddd06",
   "metadata": {},
   "source": [
    "## 1. Accessing Strings (Sequence operations)"
   ]
  },
  {
   "cell_type": "code",
   "execution_count": 9,
   "id": "8f2f66c5-2d35-4f93-b6d1-d7c5853122af",
   "metadata": {},
   "outputs": [
    {
     "name": "stdout",
     "output_type": "stream",
     "text": [
      "first\n"
     ]
    }
   ],
   "source": [
    "print(first[0])"
   ]
  },
  {
   "cell_type": "code",
   "execution_count": 14,
   "id": "2b84ec9e-0cd2-4099-bd48-85599cbffaaa",
   "metadata": {},
   "outputs": [
    {
     "name": "stdout",
     "output_type": "stream",
     "text": [
      "THIRD \n"
     ]
    }
   ],
   "source": [
    "print(third[0:6])"
   ]
  },
  {
   "cell_type": "code",
   "execution_count": null,
   "id": "3019c74e-f075-4a0d-913c-f33a537a9d1a",
   "metadata": {},
   "outputs": [],
   "source": []
  }
 ],
 "metadata": {
  "kernelspec": {
   "display_name": "Python 3 (ipykernel)",
   "language": "python",
   "name": "python3"
  },
  "language_info": {
   "codemirror_mode": {
    "name": "ipython",
    "version": 3
   },
   "file_extension": ".py",
   "mimetype": "text/x-python",
   "name": "python",
   "nbconvert_exporter": "python",
   "pygments_lexer": "ipython3",
   "version": "3.12.8"
  }
 },
 "nbformat": 4,
 "nbformat_minor": 5
}
