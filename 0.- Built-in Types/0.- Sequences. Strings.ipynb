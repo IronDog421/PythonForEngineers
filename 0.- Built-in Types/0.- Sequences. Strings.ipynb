{
 "cells": [
  {
   "cell_type": "markdown",
   "id": "65b9c5be-dcdb-4483-9175-fa3db5cc5921",
   "metadata": {},
   "source": [
    "# Sequence Types. Strings"
   ]
  },
  {
   "cell_type": "markdown",
   "id": "a756b0fe-eb57-4f94-84df-10eb7222bb14",
   "metadata": {},
   "source": [
    "## 0. Defining Strings"
   ]
  },
  {
   "cell_type": "markdown",
   "id": "9037f0e4-1d7c-4ea9-9908-f3dc978cab7f",
   "metadata": {},
   "source": [
    "Firstly we need to know that strings are inmutable sequences (we cannot modify a defined strings). The easiest way to define them is with either single, double or triple quotation marks."
   ]
  },
  {
   "cell_type": "code",
   "execution_count": 16,
   "id": "8690bf99-6d6d-4a7d-b899-6dd8d8d25bb2",
   "metadata": {},
   "outputs": [],
   "source": [
    "# String with single quotes\n",
    "first = 'a simple string using single quotes'\n",
    "\n",
    "# String with double quotes\n",
    "second = \"a simple string using double quotes\"\n",
    "\n",
    "# Triple quotation admits multiline strings\n",
    "third = '''This is a multiline string\n",
    "that spans several lines\n",
    "of text.'''"
   ]
  },
  {
   "cell_type": "markdown",
   "id": "a1e989c8-196f-4b5b-b1ad-8de97d3ddd06",
   "metadata": {},
   "source": [
    "## 1. Sequence operations\n",
    "As inmutable strigns we can use some common operations. The common sequence operations are sorted in ascending priority in the following table: \n",
    "![title](../img/sequence_types.png)"
   ]
  },
  {
   "cell_type": "code",
   "execution_count": 17,
   "id": "7ede5491",
   "metadata": {},
   "outputs": [
    {
     "name": "stdout",
     "output_type": "stream",
     "text": [
      "True\n",
      "False\n",
      "WhatsApp\n",
      "Ciao! Ciao! Ciao! Ciao! \n",
      "First character of first str: a\n",
      "First 7 characters of third str: This is\n",
      "Characters with a stride of 2 in third str: Ti s\n",
      "Length of first str: 35\n",
      "Smallest Unicode character in first str:  \n",
      "Largest Unicode character in first str: u\n",
      "Index of first occurrence of 's' in 'first': 2\n",
      "Count of 's' in second var: 4\n"
     ]
    }
   ],
   "source": [
    "# Check if \"h\" is in \"hello\"\n",
    "print(\"h\" in \"hello\")  # True\n",
    "\n",
    "# Check if \"h\" is NOT in \"hello\"\n",
    "print(\"h\" not in \"hello\")  # False\n",
    "\n",
    "# Concatenate strings\n",
    "print(\"Whats\" + \"App\")  # \"WhatsApp\"\n",
    "\n",
    "# Repeat a string 4 times\n",
    "print(\"Ciao! \" * 4)  # \"Ciao! Ciao! Ciao! Ciao! \"\n",
    "\n",
    "# Access the first character of first\n",
    "print(f\"First character of first str: {first[0]}\")  # \"a\"\n",
    "\n",
    "# Get the first 7 characters of 'third'\n",
    "print(f\"First 7 characters of third str: {third[0:7]}\")  # \"This is\"\n",
    "\n",
    "# Get the characters with a stride of 2\n",
    "print(f\"Characters with a stride of 2 in third str: {third[0:7:2]}\")  # \"Ti s\"\n",
    "\n",
    "# Get the length of first\n",
    "print(f\"Length of first str: {len(first)}\")  # 35\n",
    "\n",
    "# Get the character with the smallest Unicode value in first\n",
    "print(f\"Smallest Unicode character in first str: {min(first)}\")  # \" \"\n",
    "\n",
    "# Get the character with the largest Unicode value in first\n",
    "print(f\"Largest Unicode character in first str: {max(first)}\")  # \"u\"\n",
    "\n",
    "# Find the index of the first occurrence of \"s\" in first\n",
    "print(f\"Index of first occurrence of 's' in 'first': {first.index('s')}\")  # 2\n",
    "\n",
    "# Count how many times \"s\" appears in second\n",
    "print(f\"Count of 's' in second var: {second.count('s')}\")  # 4"
   ]
  },
  {
   "cell_type": "markdown",
   "id": "ce1035c7",
   "metadata": {},
   "source": [
    "### 1.1 Indexing\n",
    "\n",
    "String indexing allows you to access individual characters in a string. Python uses zero-based indexing, which means the first character is at position 0.\n",
    "\n",
    "- Positive indices start from the beginning (0, 1, 2, ...)\n",
    "- Negative indices start from the end (-1, -2, -3, ...)"
   ]
  },
  {
   "cell_type": "code",
   "execution_count": 18,
   "id": "2b9b51ed",
   "metadata": {},
   "outputs": [
    {
     "name": "stdout",
     "output_type": "stream",
     "text": [
      "First character: P\n",
      "Second character: y\n",
      "Third character: t\n",
      "Last character: n\n",
      "Second to last: o\n"
     ]
    }
   ],
   "source": [
    "# Let's create a sample string\n",
    "sample = \"Python\"\n",
    "\n",
    "# Accessing characters by index\n",
    "print(f\"First character: {sample[0]}\")    # P\n",
    "print(f\"Second character: {sample[1]}\")   # y\n",
    "print(f\"Third character: {sample[2]}\")    # t\n",
    "\n",
    "# Negative indices count from the end of the string\n",
    "print(f\"Last character: {sample[-1]}\")    # n\n",
    "print(f\"Second to last: {sample[-2]}\")    # o"
   ]
  },
  {
   "cell_type": "markdown",
   "id": "a720f95e",
   "metadata": {},
   "source": [
    "### 1.2 Slicing\n",
    "\n",
    "In Python, the slicing syntax is `string[start:stop:step]`. You can use:\n",
    "- `start`: the index where the slice starts.\n",
    "- `stop`: the index where the slice ends (not inclusive).\n",
    "- `step`: the interval between characters. A negative step reverses the order.\n",
    "\n",
    "Below, you'll see examples using all three arguments."
   ]
  },
  {
   "cell_type": "code",
   "execution_count": 19,
   "id": "ef89703c",
   "metadata": {},
   "outputs": [
    {
     "name": "stdout",
     "output_type": "stream",
     "text": [
      "Reversed string: nohtyP\n",
      "Every second character: Pto\n",
      "Reversed every second character: nhy\n",
      "Custom slice (indices 4 to 1, reversed): ohty\n"
     ]
    }
   ],
   "source": [
    "# Using the sample string defined earlier\n",
    "sample = \"Python\"\n",
    "\n",
    "# Reverse the entire string using a negative step\n",
    "reversed_str = sample[::-1]\n",
    "print(\"Reversed string:\", reversed_str)\n",
    "\n",
    "# Get every second character from the original string\n",
    "every_second = sample[::2]\n",
    "print(\"Every second character:\", every_second)\n",
    "\n",
    "# Reverse the string and take every second character\n",
    "reversed_every_second = sample[::-2]\n",
    "print(\"Reversed every second character:\", reversed_every_second)\n",
    "\n",
    "# Advanced slicing: slice from index 4 to index 1, stepping backwards.\n",
    "# Note that the stop index is not included, so the character at index 1 won't be printed.\n",
    "custom_slice = sample[4:0:-1]\n",
    "print(\"Custom slice (indices 4 to 1, reversed):\", custom_slice)"
   ]
  },
  {
   "cell_type": "markdown",
   "id": "a4c7129a",
   "metadata": {},
   "source": [
    "## 2. String Methods\n",
    "\n",
    "This section covers various string methods in Python:\n",
    "\n",
    "- **2.1 Case Manipulation:** Methods like `upper()`, `lower()`, `title()`, etc.\n",
    "- **2.2 Finding and Replacing:** Using methods like `find()`, `replace()`, etc.\n",
    "- **2.3 Splitting and Joining:** Using `split()` and `join()` to convert between strings and lists.\n",
    "- **2.4 Stripping Whitespace:** Methods like `strip()`, `lstrip()`, and `rstrip()` to remove extra spaces.\n",
    "- **2.5 Testing String Properties:** Methods like `isalpha()`, `isdigit()`, etc., for checking the content type of strings."
   ]
  },
  {
   "cell_type": "markdown",
   "id": "f9918130",
   "metadata": {},
   "source": [
    "### 2.1 Case Manipulation Methods\n",
    "\n",
    "Below are some methods for manipulating the case of strings:\n",
    "\n",
    "- **capitalize()**: Capitalizes the first letter and makes all other characters lowercase.\n",
    "- **casefold()**: Converts the string to lowercase in a more aggressive way for case-insensitive comparisons.\n",
    "- **lower()**: Converts all characters in the string to lowercase.\n",
    "- **swapcase()**: Swaps uppercase letters to lowercase and vice versa.\n",
    "- **title()**: Converts the string to title case, where each word starts with an uppercase letter followed by lowercase letters.\n",
    "- **upper()**: Converts all characters in the string to uppercase."
   ]
  },
  {
   "cell_type": "code",
   "execution_count": 20,
   "id": "99348d87",
   "metadata": {},
   "outputs": [
    {
     "name": "stdout",
     "output_type": "stream",
     "text": [
      "Original: heLLo WOrld\n",
      "capitalize(): Hello world\n",
      "casefold(): hello world\n",
      "lower(): hello world\n",
      "swapcase(): HEllO woRLD\n",
      "title(): Hello World\n",
      "upper(): HELLO WORLD\n"
     ]
    }
   ],
   "source": [
    "# Sample text for demonstration\n",
    "sample_text = \"heLLo WOrld\"\n",
    "\n",
    "print(\"Original:\", sample_text)\n",
    "print(\"capitalize():\", sample_text.capitalize())   # HeLlo world -> \"Hello world\"\n",
    "print(\"casefold():\", sample_text.casefold())         # hello world (more aggressive than lower())\n",
    "print(\"lower():\", sample_text.lower())               # hello world\n",
    "print(\"swapcase():\", sample_text.swapcase())         # HEllO woRLd\n",
    "print(\"title():\", sample_text.title())               # Hello World\n",
    "print(\"upper():\", sample_text.upper())               # HELLO WORLD"
   ]
  },
  {
   "cell_type": "markdown",
   "id": "061c93d3",
   "metadata": {},
   "source": [
    "### 2.2 Finding and Replacing\n",
    "\n",
    "In this section, we will explore methods to search for substrings and replace parts of strings:\n",
    "\n",
    "- **find()**: Searches for a substring from the beginning and returns the lowest index or -1 if not found.\n",
    "- **index()**: Like find() but raises an error if the substring is not found.\n",
    "- **rfind()**: Searches for a substring from the end and returns the highest index or -1 if not found.\n",
    "- **rindex()**: Like rfind() but raises an error if the substring is not found.\n",
    "- **replace()**: Replaces occurrences of a substring with another substring."
   ]
  },
  {
   "cell_type": "code",
   "execution_count": 21,
   "id": "d8c999e5",
   "metadata": {},
   "outputs": [
    {
     "name": "stdout",
     "output_type": "stream",
     "text": [
      "Using find(), first occurrence of 'Python': 0\n",
      "Using index(), first occurrence of 'Python': 0\n",
      "Using rfind(), last occurrence of 'Python': 21\n",
      "Using rindex(), last occurrence of 'Python': 21\n",
      "Using find() for 'Java' (not found): -1\n",
      "Using index() for 'Java' raised an error: substring not found\n",
      "After replacement: JavaScript is great, and JavaScript is fun!\n",
      "After replacing first occurrence: JavaScript is great, and Python is fun!\n"
     ]
    }
   ],
   "source": [
    "# Sample sentence for demonstration\n",
    "sentence = \"Python is great, and Python is fun!\"\n",
    "\n",
    "# Using find() to locate the first occurrence of \"Python\"\n",
    "first_index_find = sentence.find(\"Python\")\n",
    "print(\"Using find(), first occurrence of 'Python':\", first_index_find)\n",
    "\n",
    "# Using index() to locate the first occurrence of \"Python\"\n",
    "first_index_index = sentence.index(\"Python\")\n",
    "print(\"Using index(), first occurrence of 'Python':\", first_index_index)\n",
    "\n",
    "# Using rfind() to locate the last occurrence of \"Python\"\n",
    "last_index_rfind = sentence.rfind(\"Python\")\n",
    "print(\"Using rfind(), last occurrence of 'Python':\", last_index_rfind)\n",
    "\n",
    "# Using rindex() to locate the last occurrence of \"Python\"\n",
    "last_index_rindex = sentence.rindex(\"Python\")\n",
    "print(\"Using rindex(), last occurrence of 'Python':\", last_index_rindex)\n",
    "\n",
    "# Demonstrate what happens when a substring is not found:\n",
    "# Using find() returns -1 if substring not found\n",
    "not_found_find = sentence.find(\"Java\")\n",
    "print(\"Using find() for 'Java' (not found):\", not_found_find)\n",
    "\n",
    "# Using index() for a non-existent substring will raise an error.\n",
    "try:\n",
    "    sentence.index(\"Java\")\n",
    "except ValueError as e:\n",
    "    print(\"Using index() for 'Java' raised an error:\", e)\n",
    "\n",
    "# Using replace() to replace \"Python\" with \"JavaScript\"\n",
    "replaced_sentence = sentence.replace(\"Python\", \"JavaScript\")\n",
    "print(\"After replacement:\", replaced_sentence)\n",
    "\n",
    "# Demonstrate replacing only the first occurrence with a count parameter\n",
    "replaced_once = sentence.replace(\"Python\", \"JavaScript\", 1)\n",
    "print(\"After replacing first occurrence:\", replaced_once)"
   ]
  },
  {
   "cell_type": "markdown",
   "id": "a5ba8fb2",
   "metadata": {},
   "source": [
    "### 2.3 Splitting and Joining\n",
    "\n",
    "In this section, we will explore various methods for splitting strings into parts and joining them back together:\n",
    "\n",
    "- **split()**: Splits a string into a list using a specified separator (by default, whitespace).\n",
    "- **rsplit()**: Splits a string from the right-hand side.\n",
    "- **splitlines()**: Splits a string at line breaks and returns a list of lines.\n",
    "- **partition()**: Splits the string at the first occurrence of the separator and returns a tuple (before, separator, after).\n",
    "- **rpartition()**: Splits the string at the last occurrence of the separator.\n",
    "- **join()**: Joins the elements of an iterable into a single string using a specified separator."
   ]
  },
  {
   "cell_type": "code",
   "execution_count": 22,
   "id": "980db424",
   "metadata": {},
   "outputs": [
    {
     "name": "stdout",
     "output_type": "stream",
     "text": [
      "Using split() with comma separator: ['one', 'two', 'three', 'four']\n",
      "Using rsplit() with comma separator and maxsplit=2: ['one,two', 'three', 'four']\n",
      "Using splitlines(): ['Line 1', 'Line 2', 'Line 3']\n",
      "Using partition() on 'is': ('Python ', 'is', ' great, and Python is fun!')\n",
      "Using rpartition() on 'is': ('Python is great, and Python ', 'is', ' fun!')\n",
      "Using join() with ', ' as separator: apple, banana, cherry\n"
     ]
    }
   ],
   "source": [
    "# Example string for splitting using split() and rsplit()\n",
    "text = \"one,two,three,four\"\n",
    "print(\"Using split() with comma separator:\", text.split(','))  # Splits at every comma\n",
    "\n",
    "# Using rsplit() with a maxsplit parameter to limit splits from the right\n",
    "print(\"Using rsplit() with comma separator and maxsplit=2:\", text.rsplit(',', 2))\n",
    "\n",
    "# Example for splitlines(): a multi-line string\n",
    "multiline_text = \"Line 1\\nLine 2\\nLine 3\"\n",
    "print(\"Using splitlines():\", multiline_text.splitlines())\n",
    "\n",
    "# Using partition(): splits at the first occurrence of 'is'\n",
    "sentence = \"Python is great, and Python is fun!\"\n",
    "print(\"Using partition() on 'is':\", sentence.partition(\"is\"))\n",
    "# The output is a tuple: (part before, separator, part after)\n",
    "\n",
    "# Using rpartition(): splits at the last occurrence of 'is'\n",
    "print(\"Using rpartition() on 'is':\", sentence.rpartition(\"is\"))\n",
    "\n",
    "# Using join(): join a list of strings into one string with a specified separator\n",
    "fruits = ['apple', 'banana', 'cherry']\n",
    "print(\"Using join() with ', ' as separator:\", \", \".join(fruits))"
   ]
  },
  {
   "cell_type": "markdown",
   "id": "f612cf56",
   "metadata": {},
   "source": [
    "### 2.4 Stripping Whitespace\n",
    "\n",
    "This section demonstrates methods to remove whitespace from strings:\n",
    "\n",
    "- **strip()**: Removes whitespace from both ends of the string.\n",
    "- **lstrip()**: Removes whitespace from the beginning (left) of the string.\n",
    "- **rstrip()**: Removes whitespace from the end (right) of the string."
   ]
  },
  {
   "cell_type": "code",
   "execution_count": 23,
   "id": "997bf71b",
   "metadata": {},
   "outputs": [
    {
     "name": "stdout",
     "output_type": "stream",
     "text": [
      "strip(): 'Hello, World!'\n",
      "lstrip(): 'Hello, World!   '\n",
      "rstrip(): '   Hello, World!'\n"
     ]
    }
   ],
   "source": [
    "# Sample string with extra whitespace\n",
    "messy_text = \"   Hello, World!   \"\n",
    "\n",
    "# Remove whitespace from both ends\n",
    "stripped_text = messy_text.strip()\n",
    "print(\"strip():\", repr(stripped_text))\n",
    "\n",
    "# Remove whitespace only from the left side\n",
    "lstripped_text = messy_text.lstrip()\n",
    "print(\"lstrip():\", repr(lstripped_text))\n",
    "\n",
    "# Remove whitespace only from the right side\n",
    "rstripped_text = messy_text.rstrip()\n",
    "print(\"rstrip():\", repr(rstripped_text))"
   ]
  },
  {
   "cell_type": "markdown",
   "id": "084bac83",
   "metadata": {},
   "source": [
    "### 2.5 Testing String Properties\n",
    "\n",
    "This section demonstrates various methods to check certain properties of strings:\n",
    "\n",
    "- **isalnum()**: Returns True if all characters in the string are alphanumeric.\n",
    "- **isalpha()**: Returns True if all characters in the string are alphabetic.\n",
    "- **isascii()**: Returns True if all characters in the string are ASCII.\n",
    "- **isdecimal()**: Returns True if all characters in the string are decimal characters.\n",
    "- **isdigit()**: Returns True if all characters in the string are digits.\n",
    "- **isidentifier()**: Returns True if the string is a valid Python identifier.\n",
    "- **islower()**: Returns True if all cased characters in the string are lowercase.\n",
    "- **isnumeric()**: Returns True if all characters in the string are numeric.\n",
    "- **isprintable()**: Returns True if all characters in the string are printable.\n",
    "- **isspace()**: Returns True if the string contains only whitespace.\n",
    "- **istitle()**: Returns True if the string is in title case.\n",
    "- **isupper()**: Returns True if all cased characters in the string are uppercase."
   ]
  },
  {
   "cell_type": "code",
   "execution_count": 24,
   "id": "dae8857d",
   "metadata": {},
   "outputs": [
    {
     "name": "stdout",
     "output_type": "stream",
     "text": [
      "'Hello123'.isalnum(): True\n",
      "'Hello 123'.isalnum(): False\n",
      "'Hello'.isalpha(): True\n",
      "'Hello123'.isalpha(): False\n",
      "'Hello'.isascii(): True\n",
      "'Héllo'.isascii(): False\n",
      "'12345'.isdecimal(): True\n",
      "'123.45'.isdecimal(): False\n",
      "'12345'.isdigit(): True\n",
      "'²'.isdigit(): True\n",
      "'variable_name'.isidentifier(): True\n",
      "'123variable'.isidentifier(): False\n",
      "'hello'.islower(): True\n",
      "'Hello'.islower(): False\n",
      "'12345'.isnumeric(): True\n",
      "'123.45'.isnumeric(): False\n",
      "'Hello, World!'.isprintable(): True\n",
      "'Hello\n",
      "World'.isprintable(): False\n",
      "'    '.isspace(): True\n",
      "' a '.isspace(): False\n",
      "'Hello World'.istitle(): True\n",
      "'hello World'.istitle(): False\n",
      "'HELLO'.isupper(): True\n",
      "'Hello'.isupper(): False\n"
     ]
    }
   ],
   "source": [
    "# isalnum(): True if all characters are alphanumeric (letters & numbers), False otherwise.\n",
    "print(\"'Hello123'.isalnum():\", \"Hello123\".isalnum())\n",
    "print(\"'Hello 123'.isalnum():\", \"Hello 123\".isalnum())  # Contains space\n",
    "\n",
    "# isalpha(): True if all characters are alphabetic.\n",
    "print(\"'Hello'.isalpha():\", \"Hello\".isalpha())\n",
    "print(\"'Hello123'.isalpha():\", \"Hello123\".isalpha())\n",
    "\n",
    "# isascii(): True if all characters are ASCII.\n",
    "print(\"'Hello'.isascii():\", \"Hello\".isascii())\n",
    "print(\"'Héllo'.isascii():\", \"Héllo\".isascii())  # 'é' is not ASCII\n",
    "\n",
    "# isdecimal(): True if all characters are decimals.\n",
    "print(\"'12345'.isdecimal():\", \"12345\".isdecimal())\n",
    "print(\"'123.45'.isdecimal():\", \"123.45\".isdecimal())  # Decimal point is not a decimal\n",
    "\n",
    "# isdigit(): True if all characters are digits.\n",
    "print(\"'12345'.isdigit():\", \"12345\".isdigit())\n",
    "print(\"'²'.isdigit():\", \"²\".isdigit())  # Superscript 2\n",
    "\n",
    "# isidentifier(): True if the string is a valid Python identifier.\n",
    "print(\"'variable_name'.isidentifier():\", \"variable_name\".isidentifier())\n",
    "print(\"'123variable'.isidentifier():\", \"123variable\".isidentifier())\n",
    "\n",
    "# islower(): True if all cased characters are lowercase.\n",
    "print(\"'hello'.islower():\", \"hello\".islower())\n",
    "print(\"'Hello'.islower():\", \"Hello\".islower())\n",
    "\n",
    "# isnumeric(): True if all characters are numeric.\n",
    "print(\"'12345'.isnumeric():\", \"12345\".isnumeric())\n",
    "print(\"'123.45'.isnumeric():\", \"123.45\".isnumeric())\n",
    "\n",
    "# isprintable(): True if all characters are printable.\n",
    "print(\"'Hello, World!'.isprintable():\", \"Hello, World!\".isprintable())\n",
    "print(\"'Hello\\nWorld'.isprintable():\", \"Hello\\nWorld\".isprintable())\n",
    "\n",
    "# isspace(): True if the string contains only whitespace.\n",
    "print(\"'    '.isspace():\", \"    \".isspace())\n",
    "print(\"' a '.isspace():\", \" a \".isspace())\n",
    "\n",
    "# istitle(): True if the string is title cased.\n",
    "print(\"'Hello World'.istitle():\", \"Hello World\".istitle())\n",
    "print(\"'hello World'.istitle():\", \"hello World\".istitle())\n",
    "\n",
    "# isupper(): True if all cased characters are uppercase.\n",
    "print(\"'HELLO'.isupper():\", \"HELLO\".isupper())\n",
    "print(\"'Hello'.isupper():\", \"Hello\".isupper())"
   ]
  },
  {
   "cell_type": "markdown",
   "id": "2a60d8dc",
   "metadata": {},
   "source": [
    "**String constants**. What Python specifically considers as alphanumeric or ASCII inside this methods? Well, there are some constants in the **string.py** file"
   ]
  },
  {
   "cell_type": "code",
   "execution_count": 25,
   "id": "bebfdc01",
   "metadata": {},
   "outputs": [
    {
     "name": "stdout",
     "output_type": "stream",
     "text": [
      "ASCII letters: abcdefghijklmnopqrstuvwxyzABCDEFGHIJKLMNOPQRSTUVWXYZ\n",
      "ASCII lowercase: abcdefghijklmnopqrstuvwxyz\n",
      "ASCII uppercase: ABCDEFGHIJKLMNOPQRSTUVWXYZ\n",
      "Digits: 0123456789\n",
      "Hexadecimal digits: 0123456789abcdefABCDEF\n",
      "Octal digits: 01234567\n",
      "Punctuation: !\"#$%&'()*+,-./:;<=>?@[\\]^_`{|}~\n",
      "Printable characters: 0123456789abcdefghijklmnopqrstuvwxyzABCDEFGHIJKLMNOPQRSTUVWXYZ!\"#$%&'()*+,-./:;<=>?@[\\]^_`{|}~ \t\n",
      "\u000b\f\n",
      "Whitespace characters:  \t\n",
      "\u000b\f\n"
     ]
    }
   ],
   "source": [
    "import string\n",
    "\n",
    "# String constants\n",
    "print(\"ASCII letters:\", string.ascii_letters)  # 'abcdefghijklmnopqrstuvwxyzABCDEFGHIJKLMNOPQRSTUVWXYZ'\n",
    "print(\"ASCII lowercase:\", string.ascii_lowercase)  # 'abcdefghijklmnopqrstuvwxyz'\n",
    "print(\"ASCII uppercase:\", string.ascii_uppercase)  # 'ABCDEFGHIJKLMNOPQRSTUVWXYZ'\n",
    "print(\"Digits:\", string.digits)  # '0123456789'\n",
    "print(\"Hexadecimal digits:\", string.hexdigits)  # '0123456789abcdefABCDEF'\n",
    "print(\"Octal digits:\", string.octdigits)  # '01234567'\n",
    "print(\"Punctuation:\", string.punctuation)  # '!\"#$%&\\'()*+,-./:;<=>?@[\\\\]^_`{|}~'\n",
    "print(\"Printable characters:\", string.printable)  # Digits, letters, punctuation, and whitespace\n",
    "print(\"Whitespace characters:\", string.whitespace)  # ' \\t\\n\\r\\x0b\\x0c'"
   ]
  },
  {
   "cell_type": "markdown",
   "id": "a9431d9d",
   "metadata": {},
   "source": [
    "## 3. String Formatting\n",
    "\n",
    "There are several ways to format strings in Python:\n",
    "\n",
    "- **f-strings:** Embeds expressions directly within string literals.\n",
    "- **format() method:** Uses curly braces as placeholders to be replaced by arguments.\n",
    "- **%-formatting:** Uses `%` as a formatting operator (older style).\n",
    "- **Template strings:** Uses the `string.Template` class for more customizable substitutions."
   ]
  },
  {
   "cell_type": "code",
   "execution_count": 26,
   "id": "9103ec43",
   "metadata": {},
   "outputs": [
    {
     "name": "stdout",
     "output_type": "stream",
     "text": [
      "f-string: Alice is 30 years old and scored 95.5 points.\n",
      "format() method: Alice is 30 years old and scored 95.5 points.\n",
      "%-formatting: Alice is 30 years old and scored 95.5 points.\n",
      "Template strings: Alice is 30 years old and scored 95.5 points.\n"
     ]
    }
   ],
   "source": [
    "import string\n",
    "\n",
    "# Sample data for formatting\n",
    "name = \"Alice\"\n",
    "age = 30\n",
    "score = 95.5\n",
    "\n",
    "# f-strings: Embedding expressions directly\n",
    "formatted_f = f\"{name} is {age} years old and scored {score:.1f} points.\"\n",
    "print(\"f-string:\", formatted_f)\n",
    "\n",
    "# format() method: Using curly braces as placeholders\n",
    "formatted_format = \"{} is {} years old and scored {:.1f} points.\".format(name, age, score)\n",
    "print(\"format() method:\", formatted_format)\n",
    "\n",
    "# %-formatting: Older style formatting with %\n",
    "formatted_percent = \"%s is %d years old and scored %.1f points.\" % (name, age, score)\n",
    "print(\"%-formatting:\", formatted_percent)\n",
    "\n",
    "# Template strings: Using string.Template for customizable substitutions\n",
    "template = string.Template(\"$name is $age years old and scored $score points.\")\n",
    "formatted_template = template.substitute(name=name, age=age, score=f\"{score:.1f}\")\n",
    "print(\"Template strings:\", formatted_template)"
   ]
  },
  {
   "cell_type": "markdown",
   "id": "2f12c507",
   "metadata": {},
   "source": [
    "## 4. String Conversion"
   ]
  },
  {
   "cell_type": "markdown",
   "id": "97494bd1",
   "metadata": {},
   "source": [
    "Let's see how to convert from/to other types. The syntax is very easy: surround a variable with the target type you want to cast it to, `type(variable)`. Invalid conversions can raise `TypeError`."
   ]
  },
  {
   "cell_type": "code",
   "execution_count": 27,
   "id": "5d8caf25",
   "metadata": {},
   "outputs": [
    {
     "name": "stdout",
     "output_type": "stream",
     "text": [
      "Converting int to str: 42 <class 'str'>\n",
      "Converting str to int: 2025 <class 'int'>\n",
      "Converting str to float: 2025.0 <class 'float'>\n"
     ]
    }
   ],
   "source": [
    "# Converting a number to a string\n",
    "number = 42\n",
    "number_str = str(number)\n",
    "print(\"Converting int to str:\", number_str, type(number_str))\n",
    "\n",
    "# Converting a string to a number\n",
    "numeric_string = \"2025\"\n",
    "converted_int = int(numeric_string)\n",
    "print(\"Converting str to int:\", converted_int, type(converted_int))\n",
    "\n",
    "converted_float = float(numeric_string)\n",
    "print(\"Converting str to float:\", converted_float, type(converted_float))"
   ]
  },
  {
   "cell_type": "markdown",
   "id": "c0f00a78",
   "metadata": {},
   "source": [
    "## 5. String Immutability and Best Practices\n",
    "\n",
    "In Python, strings are **immutable**, meaning that once created, their contents cannot be changed. When you perform operations that appear to modify a string, a new string is actually created.\n",
    "\n",
    "**Best Practices:**\n",
    "- **Use immutable strings wisely.** Avoid needless concatenations in a loop; consider using `list` and `join()` for efficiency.  \n",
    "- **Use f-strings or `format()` for clarity** in your code when building strings dynamically.  \n",
    "- **Choose the right data structure.** If frequent modifications are needed, consider byte arrays or other editable data types."
   ]
  },
  {
   "cell_type": "code",
   "execution_count": 28,
   "id": "d2390773",
   "metadata": {},
   "outputs": [
    {
     "name": "stdout",
     "output_type": "stream",
     "text": [
      "Strings are immutable: 'str' object does not support item assignment\n",
      "Original: Hello\n",
      "New: Jello\n"
     ]
    }
   ],
   "source": [
    "immutable_example = \"Hello\"\n",
    "try:\n",
    "    immutable_example[0] = \"J\"\n",
    "except TypeError as e:\n",
    "    print(\"Strings are immutable:\", e)\n",
    "\n",
    "# Creating a modified version returns a new string\n",
    "new_string = \"J\" + immutable_example[1:]\n",
    "print(\"Original:\", immutable_example)\n",
    "print(\"New:\", new_string)"
   ]
  }
 ],
 "metadata": {
  "kernelspec": {
   "display_name": "Python 3",
   "language": "python",
   "name": "python3"
  },
  "language_info": {
   "codemirror_mode": {
    "name": "ipython",
    "version": 3
   },
   "file_extension": ".py",
   "mimetype": "text/x-python",
   "name": "python",
   "nbconvert_exporter": "python",
   "pygments_lexer": "ipython3",
   "version": "3.12.8"
  }
 },
 "nbformat": 4,
 "nbformat_minor": 5
}
