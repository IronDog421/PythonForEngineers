{
 "cells": [
  {
   "cell_type": "markdown",
   "id": "65b9c5be-dcdb-4483-9175-fa3db5cc5921",
   "metadata": {},
   "source": [
    "# Numeric Types"
   ]
  },
  {
   "cell_type": "markdown",
   "id": "a756b0fe-eb57-4f94-84df-10eb7222bb14",
   "metadata": {},
   "source": [
    "## 0. Defining Numeric Types"
   ]
  },
  {
   "cell_type": "markdown",
   "id": "b669cc62",
   "metadata": {},
   "source": [
    "Numeric Types in Python includes integers, floating-point numbers, and complex numbers. Boolean are a subtype of integers. Integers have unlimited precision. Floating-point numbers are usually implemented using double in C.\n",
    "\n",
    "- **int** is a positive or negative number without decimals of unlimited length.\n",
    "- **float** is a positive or negative number, containing one or more decimals.\n",
    "- **complex** defines a number with an imaginary part writter with a \"j\""
   ]
  },
  {
   "cell_type": "code",
   "execution_count": null,
   "id": "8690bf99-6d6d-4a7d-b899-6dd8d8d25bb2",
   "metadata": {},
   "outputs": [
    {
     "name": "stdout",
     "output_type": "stream",
     "text": [
      "Integer: 42 <class 'int'>\n",
      "Integer with exponent: 2000 <class 'int'>\n",
      "Float: 3.14159 <class 'float'>\n",
      "Float with exponent: 12300.0 <class 'float'>\n",
      "Complex: (2+3j) <class 'complex'>\n"
     ]
    }
   ],
   "source": [
    "# Defining an integer\n",
    "integer_num = 42\n",
    "print(\"Integer:\", integer_num, type(integer_num))\n",
    "\n",
    "# Defining an integer with an exponent (scientific notation)\n",
    "int_sci = 2e3\n",
    "print(\"Integer with exponent:\", int(int_sci), type(int(int_sci)))\n",
    "\n",
    "# Defining a floating-point number\n",
    "float_num = 3.14159\n",
    "print(\"Float:\", float_num, type(float_num))\n",
    "\n",
    "# Defining a floating-point number with an exponent (scientific notation)\n",
    "float_sci = 1.23e4\n",
    "print(\"Float with exponent:\", float_sci, type(float_sci))\n",
    "\n",
    "# Defining a complex number\n",
    "complex_num = 2 + 3j\n",
    "print(\"Complex:\", complex_num, type(complex_num))"
   ]
  },
  {
   "cell_type": "markdown",
   "id": "a1e989c8-196f-4b5b-b1ad-8de97d3ddd06",
   "metadata": {},
   "source": [
    "## 1. Numeric operations\n",
    "Numeric operations can be seen in the following table. For priorities of the operations go to Python docs. \n",
    "\n",
    "![title](../img/numeric_operations.png)"
   ]
  },
  {
   "cell_type": "code",
   "execution_count": 3,
   "id": "7ede5491",
   "metadata": {},
   "outputs": [
    {
     "name": "stdout",
     "output_type": "stream",
     "text": [
      "4 + 2 = 6\n",
      "4 - 2 = 2\n",
      "4 * 2 = 8\n",
      "4 / 2 = 2.0\n",
      "5 % 2 = 1\n",
      "5 ** 2 = 25\n",
      "5 // 2 = 2\n",
      "-5 // 2 = -3\n"
     ]
    }
   ],
   "source": [
    "# Addition\n",
    "print(f\"4 + 2 = {4 + 2}\")  # 6\n",
    "\n",
    "# Subtraction\n",
    "print(f\"4 - 2 = {4 - 2}\")  # 2\n",
    "\n",
    "# Multiplication\n",
    "print(f\"4 * 2 = {4 * 2}\")  # 8\n",
    "\n",
    "# Division\n",
    "print(f\"4 / 2 = {4 / 2}\")  # 2.0\n",
    "\n",
    "# Modulus operator to get remainder in integer division\n",
    "print(f\"5 % 2 = {5 % 2}\")  # 1\n",
    "\n",
    "# Exponentiation\n",
    "print(f\"5 ** 2 = {5 ** 2}\")  # 25\n",
    "\n",
    "# Integer division (Floor Division)\n",
    "print(f\"5 // 2 = {5 // 2}\")  # 2\n",
    "print(f\"-5 // 2 = {-5 // 2}\")  # -3\n"
   ]
  },
  {
   "cell_type": "markdown",
   "id": "a4c7129a",
   "metadata": {},
   "source": [
    "## 2. Numeric Methods\n",
    "\n",
    "This section covers various numeric methods available for Python's built-in numeric types:\n",
    "\n",
    "- **int.bit_length()**: Returns the number of bits required to represent the integer in binary, excluding the sign and leading zeros.\n",
    "- **int.bit_count()**: Returns the count of one-bits in the binary representation of the integer.\n",
    "- **int.to_bytes()**: Converts the integer to a byte array. You need to specify the length and the byte order (e.g., 'big' or 'little').\n",
    "- **int.from_bytes()**: A class method that converts a given byte array to an integer. You must specify the byte order used to interpret the bytes.\n",
    "- **int.as_integer_ratio()**: Returns a tuple (numerator, denominator) such that the integer equals numerator/denominator. For integers, this always returns (self, 1).\n",
    "- **float.is_integer()**: Returns True if the float has no fractional part (i.e., its value is equivalent to an integer), and False otherwise.\n",
    "- **float.hex()**: Returns a hexadecimal string representation of the floating-point number, which can be useful for low-level manipulation or exact representation.\n",
    "- **float.fromhex()**: A class method that creates a float from a hexadecimal string produced by float.hex(), essentially reversing the conversion.\n",
    "\n",
    "Other built-in functions such as round() and abs() are also useful for numeric processing. `Math` module provides other useful numeric functions."
   ]
  },
  {
   "cell_type": "code",
   "execution_count": null,
   "id": "62802617",
   "metadata": {},
   "outputs": [
    {
     "name": "stdout",
     "output_type": "stream",
     "text": [
      "Integer: 42\n",
      "Bit length of integer_num: 6\n",
      "Bit count of integer_num: 3\n",
      "Bytes representation of integer_num (big-endian): b'\\x00*'\n",
      "Recovered integer from bytes: 42\n",
      "integer_num as integer ratio: (42, 1)\n",
      "float_num: 3.14159\n",
      "Does float_num represent an integer? False\n",
      "Does 3.0 represent an integer? True\n",
      "Hexadecimal representation of float_num: 0x1.921f9f01b866ep+1\n",
      "Restored float from hexadecimal: 3.14159\n"
     ]
    }
   ],
   "source": [
    "integer_num = 42\n",
    "\n",
    "# int.bit_length() and int.bit_count()\n",
    "print(\"Integer:\", integer_num)\n",
    "print(\"Bit length of integer_num:\", integer_num.bit_length())\n",
    "print(\"Bit count of integer_num:\", integer_num.bit_count())\n",
    "\n",
    "# int.to_bytes() and int.from_bytes()\n",
    "# Using 2 bytes to represent 'integer_num'\n",
    "num_bytes = integer_num.to_bytes(2, byteorder='big')\n",
    "print(\"Bytes representation of integer_num (big-endian):\", num_bytes)\n",
    "recovered_int = int.from_bytes(num_bytes, byteorder='big')\n",
    "print(\"Recovered integer from bytes:\", recovered_int)\n",
    "\n",
    "# int.as_integer_ratio()\n",
    "ratio = integer_num.as_integer_ratio()\n",
    "print(\"integer_num as integer ratio:\", ratio)\n",
    "\n",
    "# float.is_integer()\n",
    "print(\"float_num:\", float_num)\n",
    "print(\"Does float_num represent an integer?\", float_num.is_integer())\n",
    "print(\"Does 3.0 represent an integer?\", (3.0).is_integer())\n",
    "\n",
    "# float.hex() and float.fromhex()\n",
    "float_hex = float_num.hex()\n",
    "print(\"Hexadecimal representation of float_num:\", float_hex)\n",
    "restored_float = float.fromhex(float_hex)\n",
    "print(\"Restored float from hexadecimal:\", restored_float)"
   ]
  },
  {
   "cell_type": "markdown",
   "id": "a9431d9d",
   "metadata": {},
   "source": [
    "## 3. Bitwise Operations on Integer Types\n",
    "\n",
    "Bitwise operations only make sense for integers. The result of bitwise operations is calculated as though carried out in two’s complement with an infinite number of sign bits. This table lists the bitwise operations sorted in ascending priority:\n",
    "\n",
    "![title](../img/bitwise_operations.png)"
   ]
  },
  {
   "cell_type": "code",
   "execution_count": 17,
   "id": "9103ec43",
   "metadata": {},
   "outputs": [
    {
     "name": "stdout",
     "output_type": "stream",
     "text": [
      "integer_num: 42 (binary: 0b101010)\n",
      "integer_num: 40 (binary: 0b101000)\n",
      "Bitwise AND (42 & 40): 40 (binary: 0b101000)\n",
      "Bitwise OR (42 | 40): 42 (binary: 0b101010)\n",
      "Bitwise XOR (42 ^ 40): 2 (binary: 0b10)\n",
      "Bitwise NOT (~42): -43 (binary: -0b101011)\n",
      "Left Shift (42 << 1): 84 (binary: 0b1010100)\n",
      "Right Shift (42 >> 1): 21 (binary: 0b10101)\n"
     ]
    }
   ],
   "source": [
    "integer_num = 42\n",
    "\n",
    "print(\"integer_num:\", integer_num, f\"(binary: {bin(integer_num)})\")\n",
    "print(\"integer_num:\", 40, f\"(binary: {bin(40)})\")\n",
    "\n",
    "# Bitwise AND: 42 & 40\n",
    "print(\"Bitwise AND (42 & 40):\", integer_num & 40, f\"(binary: {bin(integer_num & 40)})\")\n",
    "\n",
    "# Bitwise OR: 42 | 40\n",
    "print(\"Bitwise OR (42 | 40):\", integer_num | 40, f\"(binary: {bin(integer_num | 40)})\")\n",
    "\n",
    "# Bitwise XOR: 42 ^ 40\n",
    "print(\"Bitwise XOR (42 ^ 40):\", integer_num ^ 40, f\"(binary: {bin(integer_num ^ 40)})\")\n",
    "\n",
    "# Bitwise NOT: ~42\n",
    "print(\"Bitwise NOT (~42):\", ~integer_num, f\"(binary: {bin(~integer_num)})\")\n",
    "\n",
    "# Left Shift: 42 << 1\n",
    "print(\"Left Shift (42 << 1):\", integer_num << 1, f\"(binary: {bin(integer_num << 1)})\")\n",
    "\n",
    "# Right Shift: 42 >> 1\n",
    "print(\"Right Shift (42 >> 1):\", integer_num >> 1, f\"(binary: {bin(integer_num >> 1)})\")"
   ]
  },
  {
   "cell_type": "markdown",
   "id": "2f12c507",
   "metadata": {},
   "source": [
    "## 4. String Conversion"
   ]
  },
  {
   "cell_type": "markdown",
   "id": "97494bd1",
   "metadata": {},
   "source": [
    "Let's see how to convert from/to other types. The syntax is very easy: surround a variable with the target type you want to cast it to, `type(variable)`. Invalid conversions can raise `TypeError`."
   ]
  },
  {
   "cell_type": "code",
   "execution_count": 27,
   "id": "5d8caf25",
   "metadata": {},
   "outputs": [
    {
     "name": "stdout",
     "output_type": "stream",
     "text": [
      "Converting int to str: 42 <class 'str'>\n",
      "Converting str to int: 2025 <class 'int'>\n",
      "Converting str to float: 2025.0 <class 'float'>\n"
     ]
    }
   ],
   "source": [
    "# Converting a number to a string\n",
    "number = 42\n",
    "number_str = str(number)\n",
    "print(\"Converting int to str:\", number_str, type(number_str))\n",
    "\n",
    "# Converting a string to a number\n",
    "numeric_string = \"2025\"\n",
    "converted_int = int(numeric_string)\n",
    "print(\"Converting str to int:\", converted_int, type(converted_int))\n",
    "\n",
    "converted_float = float(numeric_string)\n",
    "print(\"Converting str to float:\", converted_float, type(converted_float))"
   ]
  },
  {
   "cell_type": "markdown",
   "id": "c0f00a78",
   "metadata": {},
   "source": [
    "## 5. String Immutability and Best Practices\n",
    "\n",
    "In Python, strings are **immutable**, meaning that once created, their contents cannot be changed. When you perform operations that appear to modify a string, a new string is actually created.\n",
    "\n",
    "**Best Practices:**\n",
    "- **Use immutable strings wisely.** Avoid needless concatenations in a loop; consider using `list` and `join()` for efficiency.  \n",
    "- **Use f-strings or `format()` for clarity** in your code when building strings dynamically.  \n",
    "- **Choose the right data structure.** If frequent modifications are needed, consider byte arrays or other editable data types."
   ]
  },
  {
   "cell_type": "code",
   "execution_count": 28,
   "id": "d2390773",
   "metadata": {},
   "outputs": [
    {
     "name": "stdout",
     "output_type": "stream",
     "text": [
      "Strings are immutable: 'str' object does not support item assignment\n",
      "Original: Hello\n",
      "New: Jello\n"
     ]
    }
   ],
   "source": [
    "immutable_example = \"Hello\"\n",
    "try:\n",
    "    immutable_example[0] = \"J\"\n",
    "except TypeError as e:\n",
    "    print(\"Strings are immutable:\", e)\n",
    "\n",
    "# Creating a modified version returns a new string\n",
    "new_string = \"J\" + immutable_example[1:]\n",
    "print(\"Original:\", immutable_example)\n",
    "print(\"New:\", new_string)"
   ]
  }
 ],
 "metadata": {
  "kernelspec": {
   "display_name": "Python 3",
   "language": "python",
   "name": "python3"
  },
  "language_info": {
   "codemirror_mode": {
    "name": "ipython",
    "version": 3
   },
   "file_extension": ".py",
   "mimetype": "text/x-python",
   "name": "python",
   "nbconvert_exporter": "python",
   "pygments_lexer": "ipython3",
   "version": "3.12.8"
  }
 },
 "nbformat": 4,
 "nbformat_minor": 5
}
